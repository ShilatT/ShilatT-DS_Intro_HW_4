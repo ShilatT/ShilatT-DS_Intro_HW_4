{
 "cells": [
  {
   "cell_type": "code",
   "execution_count": 433,
   "id": "48efed4a",
   "metadata": {},
   "outputs": [],
   "source": [
    "dest = open('dests.txt', 'r')\n",
    "\n",
    "import json\n",
    "import requests\n",
    "import urllib\n",
    "\n",
    "parms = dict()\n",
    "countries = dict()\n",
    "parms['origins'] = 'Jerusalem'\n",
    "parms['key'] = 'AIzaSyDofjbStkg08jMsRi7r_d4VwUBVWpXuQf000000'\n",
    "for i in dest:\n",
    "    parms['destinations'] = i\n",
    "    \n",
    "    serviceurl = \"https://maps.googleapis.com/maps/api/distancematrix/json?\"\n",
    "    url = serviceurl + urllib.parse.urlencode(parms)\n",
    "    response = requests.get(url).json()\n",
    "\n",
    "    url1 = \"https://maps.googleapis.com/maps/api/geocode/json?address=%s&key=%s\" % (parms['destinations'], parms['key'])\n",
    "    response1 = requests.get(url1).json()\n",
    "              \n",
    "    destinations = response['destination_addresses'][0]\n",
    "    origin = response['origin_addresses'][0]\n",
    "    lat =  response1['results'][0]['geometry']['location']['lat']\n",
    "    lng = response1['results'][0]['geometry']['location']['lng']\n",
    "    dist = response['rows'][0]['elements'][0]['distance']['value']\n",
    "    duration = response['rows'][0]['elements'][0]['duration']['value']\n",
    "    \n",
    "    countries[i] = (lat, lng, dist, duration)"
   ]
  },
  {
   "cell_type": "code",
   "execution_count": 434,
   "id": "3a30e00a",
   "metadata": {
    "scrolled": true
   },
   "outputs": [
    {
     "name": "stdout",
     "output_type": "stream",
     "text": [
      "Istanbul\n",
      " (41.0082376, 28.9783589, 1808887, 74525)\n",
      "Amsterdam\n",
      " (52.3675734, 4.9041389, 4527785, 171190)\n",
      "Valletta\n",
      " (35.8989085, 14.5145528, 3782994, 181759)\n",
      "Basel\n",
      " (47.5595986, 7.5885761, 4091383, 157365)\n",
      "Doha (25.2854473, 51.53103979999999, 2103889, 78682)\n"
     ]
    }
   ],
   "source": [
    "for key, val in countries.items():  \n",
    "    print(key, val)"
   ]
  },
  {
   "cell_type": "code",
   "execution_count": 438,
   "id": "10fe5413",
   "metadata": {},
   "outputs": [
    {
     "name": "stdout",
     "output_type": "stream",
     "text": [
      "1808887\n",
      "4527785\n",
      "3782994\n",
      "4091383\n",
      "2103889\n"
     ]
    }
   ],
   "source": [
    "for key, val in countries.items():\n",
    "    dist2 = val[2]\n",
    "    print (dist2)"
   ]
  },
  {
   "cell_type": "code",
   "execution_count": 402,
   "id": "d5eda63a",
   "metadata": {},
   "outputs": [
    {
     "name": "stdout",
     "output_type": "stream",
     "text": [
      "(35.8989085, 14.5145528, '3,783 km', 181759)\n",
      "{'Amsterdam\\n': \"(52.3675734, 4.9041389, '4,528 km', 171190)\"}\n"
     ]
    }
   ],
   "source": [
    "v = tuple(countries.values())\n",
    "v_dist = v[2]\n",
    "print(v_dist)\n",
    "k = list(countries.keys())\n",
    "my_new = {f'{k[1]}': f'{v[1]}'}\n",
    "print(my_new)"
   ]
  },
  {
   "cell_type": "code",
   "execution_count": 401,
   "id": "f30c1bb2",
   "metadata": {},
   "outputs": [
    {
     "name": "stdout",
     "output_type": "stream",
     "text": [
      "((41.0082376, 28.9783589, '1,809 km', 74525), (52.3675734, 4.9041389, '4,528 km', 171190), (35.8989085, 14.5145528, '3,783 km', 181759), (47.5595986, 7.5885761, '4,091 km', 157365), (25.2854473, 51.53103979999999, '2,104 km', 78682))\n"
     ]
    }
   ],
   "source": []
  },
  {
   "cell_type": "code",
   "execution_count": null,
   "id": "713eb364",
   "metadata": {},
   "outputs": [],
   "source": []
  }
 ],
 "metadata": {
  "kernelspec": {
   "display_name": "Python 3",
   "language": "python",
   "name": "python3"
  },
  "language_info": {
   "codemirror_mode": {
    "name": "ipython",
    "version": 3
   },
   "file_extension": ".py",
   "mimetype": "text/x-python",
   "name": "python",
   "nbconvert_exporter": "python",
   "pygments_lexer": "ipython3",
   "version": "3.8.8"
  }
 },
 "nbformat": 4,
 "nbformat_minor": 5
}
